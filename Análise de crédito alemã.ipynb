{
  "nbformat": 4,
  "nbformat_minor": 0,
  "metadata": {
    "colab": {
      "name": "Avaliacao2",
      "provenance": [],
      "collapsed_sections": []
    },
    "kernelspec": {
      "name": "python3",
      "display_name": "Python 3"
    },
    "language_info": {
      "name": "python"
    }
  },
  "cells": [
    {
      "cell_type": "markdown",
      "source": [
        "# <center> Análise de dados de crédito alemão </center>\n",
        "\n",
        "Os empréstimos fazem parte integrante das operações bancárias. No entanto, nem todos os empréstimos são prontamente devolvidos e, portanto, é importante que um banco monitore de perto seus pedidos de empréstimo. Este projeto é uma análise dos dados de crédito alemães. Ele contém detalhes de 1.000 solicitantes de empréstimo com 20 atributos e a classificação se um solicitante é considerado um risco de crédito Bom ou Ruim.\n",
        "\n",
        "Neste projeto, a relação entre o risco de crédito e vários atributos será explorada por meio de técnicas estatísticas básicas e apresentada por meio de visualizações."
      ],
      "metadata": {
        "id": "iiBpFuQ8CdBv"
      }
    },
    {
      "cell_type": "markdown",
      "source": [
        "## 1. Importando as bibliotecas necessárias e o dataset  \n",
        "\n",
        "Vamos começar baixando os dados do [repositório UCI Machine Learning](http://archive.ics.uci.edu/ml/about.html). "
      ],
      "metadata": {
        "id": "553RKB3S8HIS"
      }
    },
    {
      "cell_type": "code",
      "execution_count": null,
      "metadata": {
        "id": "QJaQaU5KTLRw"
      },
      "outputs": [],
      "source": [
        "# Importando as bibliotecas necessárias e o dataset \n",
        "import seaborn as sns\n",
        "import matplotlib\n",
        "import matplotlib.pyplot as plt\n",
        "import numpy as np\n",
        "import pandas as pd\n",
        "from matplotlib import colors\n",
        "from matplotlib.ticker import PercentFormatter\n",
        "\n",
        "from urllib.request import urlretrieve\n",
        "urlretrieve('http://archive.ics.uci.edu/ml/machine-learning-databases/statlog/german/german.data', 'german.data')\n",
        "df = pd.read_csv('http://archive.ics.uci.edu/ml/machine-learning-databases/statlog/german/german.data', \\\n",
        "                  delimiter = ' ', header = None)"
      ]
    },
    {
      "cell_type": "markdown",
      "source": [
        "## 2. Preparação e Limpeza dos Dados\n",
        "\n",
        "Vamos ter uma visão geral do conjunto de dados:"
      ],
      "metadata": {
        "id": "RzR7NlvMDdTm"
      }
    },
    {
      "cell_type": "code",
      "source": [
        "df.info()\n",
        "print(\"Algum NaN ou None no DataFrame:\", df.isna().any().any())"
      ],
      "metadata": {
        "colab": {
          "base_uri": "https://localhost:8080/"
        },
        "id": "o0cdpjusOYUJ",
        "outputId": "2e29a245-bead-4450-a193-691bc1891970"
      },
      "execution_count": null,
      "outputs": [
        {
          "output_type": "stream",
          "name": "stdout",
          "text": [
            "<class 'pandas.core.frame.DataFrame'>\n",
            "RangeIndex: 1000 entries, 0 to 999\n",
            "Data columns (total 21 columns):\n",
            " #   Column  Non-Null Count  Dtype \n",
            "---  ------  --------------  ----- \n",
            " 0   0       1000 non-null   object\n",
            " 1   1       1000 non-null   int64 \n",
            " 2   2       1000 non-null   object\n",
            " 3   3       1000 non-null   object\n",
            " 4   4       1000 non-null   int64 \n",
            " 5   5       1000 non-null   object\n",
            " 6   6       1000 non-null   object\n",
            " 7   7       1000 non-null   int64 \n",
            " 8   8       1000 non-null   object\n",
            " 9   9       1000 non-null   object\n",
            " 10  10      1000 non-null   int64 \n",
            " 11  11      1000 non-null   object\n",
            " 12  12      1000 non-null   int64 \n",
            " 13  13      1000 non-null   object\n",
            " 14  14      1000 non-null   object\n",
            " 15  15      1000 non-null   int64 \n",
            " 16  16      1000 non-null   object\n",
            " 17  17      1000 non-null   int64 \n",
            " 18  18      1000 non-null   object\n",
            " 19  19      1000 non-null   object\n",
            " 20  20      1000 non-null   int64 \n",
            "dtypes: int64(8), object(13)\n",
            "memory usage: 164.2+ KB\n",
            "Algum NaN ou None no DataFrame: False\n"
          ]
        }
      ]
    },
    {
      "cell_type": "code",
      "source": [
        "df.dtypes"
      ],
      "metadata": {
        "id": "DTRXApOcSs6-",
        "colab": {
          "base_uri": "https://localhost:8080/"
        },
        "outputId": "c81f206e-bbc1-4d5a-cd06-a19fe94bd0ba"
      },
      "execution_count": null,
      "outputs": [
        {
          "output_type": "execute_result",
          "data": {
            "text/plain": [
              "0     object\n",
              "1      int64\n",
              "2     object\n",
              "3     object\n",
              "4      int64\n",
              "5     object\n",
              "6     object\n",
              "7      int64\n",
              "8     object\n",
              "9     object\n",
              "10     int64\n",
              "11    object\n",
              "12     int64\n",
              "13    object\n",
              "14    object\n",
              "15     int64\n",
              "16    object\n",
              "17     int64\n",
              "18    object\n",
              "19    object\n",
              "20     int64\n",
              "dtype: object"
            ]
          },
          "metadata": {},
          "execution_count": 79
        }
      ]
    },
    {
      "cell_type": "markdown",
      "source": [
        "O conjunto de dados contém 21 variáveis e 1000 observações. 8 variáveis são do tipo numérico e 13 do tipo objeto. Como as variáveis do tipo objeto não possuem nenhum valor nulo, podemos concluir que elas são do tipo categórico.\n",
        "\n",
        "Em seguida, vamos rotular as variáveis para facilitar o uso. O documento que descreve o conjunto de dados pode ser consultado para isso:"
      ],
      "metadata": {
        "id": "gqYmmQhuEviX"
      }
    },
    {
      "cell_type": "code",
      "source": [
        "urlretrieve('http://archive.ics.uci.edu/ml/machine-learning-databases/statlog/german/german.doc', 'german.doc')\n",
        "f = open('german.doc')\n",
        "german_doc = f.read()\n",
        "print(german_doc)"
      ],
      "metadata": {
        "colab": {
          "base_uri": "https://localhost:8080/"
        },
        "id": "d35U3fE_E8GX",
        "outputId": "eb1dff79-d413-4b89-8474-e8050126119d"
      },
      "execution_count": null,
      "outputs": [
        {
          "output_type": "stream",
          "name": "stdout",
          "text": [
            "Description of the German credit dataset.\n",
            "\n",
            "1. Title: German Credit data\n",
            "\n",
            "2. Source Information\n",
            "\n",
            "Professor Dr. Hans Hofmann  \n",
            "Institut f\"ur Statistik und \"Okonometrie  \n",
            "Universit\"at Hamburg  \n",
            "FB Wirtschaftswissenschaften  \n",
            "Von-Melle-Park 5    \n",
            "2000 Hamburg 13 \n",
            "\n",
            "3. Number of Instances:  1000\n",
            "\n",
            "Two datasets are provided.  the original dataset, in the form provided\n",
            "by Prof. Hofmann, contains categorical/symbolic attributes and\n",
            "is in the file \"german.data\".   \n",
            " \n",
            "For algorithms that need numerical attributes, Strathclyde University \n",
            "produced the file \"german.data-numeric\".  This file has been edited \n",
            "and several indicator variables added to make it suitable for \n",
            "algorithms which cannot cope with categorical variables.   Several\n",
            "attributes that are ordered categorical (such as attribute 17) have\n",
            "been coded as integer.    This was the form used by StatLog.\n",
            "\n",
            "\n",
            "6. Number of Attributes german: 20 (7 numerical, 13 categorical)\n",
            "   Number of Attributes german.numer: 24 (24 numerical)\n",
            "\n",
            "\n",
            "7.  Attribute description for german\n",
            "\n",
            "Attribute 1:  (qualitative)\n",
            "\t       Status of existing checking account\n",
            "               A11 :      ... <    0 DM\n",
            "\t       A12 : 0 <= ... <  200 DM\n",
            "\t       A13 :      ... >= 200 DM /\n",
            "\t\t     salary assignments for at least 1 year\n",
            "               A14 : no checking account\n",
            "\n",
            "Attribute 2:  (numerical)\n",
            "\t      Duration in month\n",
            "\n",
            "Attribute 3:  (qualitative)\n",
            "\t      Credit history\n",
            "\t      A30 : no credits taken/\n",
            "\t\t    all credits paid back duly\n",
            "              A31 : all credits at this bank paid back duly\n",
            "\t      A32 : existing credits paid back duly till now\n",
            "              A33 : delay in paying off in the past\n",
            "\t      A34 : critical account/\n",
            "\t\t    other credits existing (not at this bank)\n",
            "\n",
            "Attribute 4:  (qualitative)\n",
            "\t      Purpose\n",
            "\t      A40 : car (new)\n",
            "\t      A41 : car (used)\n",
            "\t      A42 : furniture/equipment\n",
            "\t      A43 : radio/television\n",
            "\t      A44 : domestic appliances\n",
            "\t      A45 : repairs\n",
            "\t      A46 : education\n",
            "\t      A47 : (vacation - does not exist?)\n",
            "\t      A48 : retraining\n",
            "\t      A49 : business\n",
            "\t      A410 : others\n",
            "\n",
            "Attribute 5:  (numerical)\n",
            "\t      Credit amount\n",
            "\n",
            "Attibute 6:  (qualitative)\n",
            "\t      Savings account/bonds\n",
            "\t      A61 :          ... <  100 DM\n",
            "\t      A62 :   100 <= ... <  500 DM\n",
            "\t      A63 :   500 <= ... < 1000 DM\n",
            "\t      A64 :          .. >= 1000 DM\n",
            "              A65 :   unknown/ no savings account\n",
            "\n",
            "Attribute 7:  (qualitative)\n",
            "\t      Present employment since\n",
            "\t      A71 : unemployed\n",
            "\t      A72 :       ... < 1 year\n",
            "\t      A73 : 1  <= ... < 4 years  \n",
            "\t      A74 : 4  <= ... < 7 years\n",
            "\t      A75 :       .. >= 7 years\n",
            "\n",
            "Attribute 8:  (numerical)\n",
            "\t      Installment rate in percentage of disposable income\n",
            "\n",
            "Attribute 9:  (qualitative)\n",
            "\t      Personal status and sex\n",
            "\t      A91 : male   : divorced/separated\n",
            "\t      A92 : female : divorced/separated/married\n",
            "              A93 : male   : single\n",
            "\t      A94 : male   : married/widowed\n",
            "\t      A95 : female : single\n",
            "\n",
            "Attribute 10: (qualitative)\n",
            "\t      Other debtors / guarantors\n",
            "\t      A101 : none\n",
            "\t      A102 : co-applicant\n",
            "\t      A103 : guarantor\n",
            "\n",
            "Attribute 11: (numerical)\n",
            "\t      Present residence since\n",
            "\n",
            "Attribute 12: (qualitative)\n",
            "\t      Property\n",
            "\t      A121 : real estate\n",
            "\t      A122 : if not A121 : building society savings agreement/\n",
            "\t\t\t\t   life insurance\n",
            "              A123 : if not A121/A122 : car or other, not in attribute 6\n",
            "\t      A124 : unknown / no property\n",
            "\n",
            "Attribute 13: (numerical)\n",
            "\t      Age in years\n",
            "\n",
            "Attribute 14: (qualitative)\n",
            "\t      Other installment plans \n",
            "\t      A141 : bank\n",
            "\t      A142 : stores\n",
            "\t      A143 : none\n",
            "\n",
            "Attribute 15: (qualitative)\n",
            "\t      Housing\n",
            "\t      A151 : rent\n",
            "\t      A152 : own\n",
            "\t      A153 : for free\n",
            "\n",
            "Attribute 16: (numerical)\n",
            "              Number of existing credits at this bank\n",
            "\n",
            "Attribute 17: (qualitative)\n",
            "\t      Job\n",
            "\t      A171 : unemployed/ unskilled  - non-resident\n",
            "\t      A172 : unskilled - resident\n",
            "\t      A173 : skilled employee / official\n",
            "\t      A174 : management/ self-employed/\n",
            "\t\t     highly qualified employee/ officer\n",
            "\n",
            "Attribute 18: (numerical)\n",
            "\t      Number of people being liable to provide maintenance for\n",
            "\n",
            "Attribute 19: (qualitative)\n",
            "\t      Telephone\n",
            "\t      A191 : none\n",
            "\t      A192 : yes, registered under the customers name\n",
            "\n",
            "Attribute 20: (qualitative)\n",
            "\t      foreign worker\n",
            "\t      A201 : yes\n",
            "\t      A202 : no\n",
            "\n",
            "\n",
            "\n",
            "8.  Cost Matrix\n",
            "\n",
            "This dataset requires use of a cost matrix (see below)\n",
            "\n",
            "\n",
            "      1        2\n",
            "----------------------------\n",
            "  1   0        1\n",
            "-----------------------\n",
            "  2   5        0\n",
            "\n",
            "(1 = Good,  2 = Bad)\n",
            "\n",
            "the rows represent the actual classification and the columns\n",
            "the predicted classification.\n",
            "\n",
            "It is worse to class a customer as good when they are bad (5), \n",
            "than it is to class a customer as bad when they are good (1).\n",
            "\n",
            "\n"
          ]
        }
      ]
    },
    {
      "cell_type": "markdown",
      "source": [
        "Com base na descrição, nomeamos as colunas."
      ],
      "metadata": {
        "id": "EeSqYcqLFPB0"
      }
    },
    {
      "cell_type": "code",
      "source": [
        "df.columns = [\"montante\", \"duracao\", \"historico_credito\", \n",
        "              \"proposito\", \"montante_credito\", \"poupanca\",\n",
        "              \"tempo_empregado\",\"taxa_parcelamento\",\n",
        "              \"estado_civil_sexo\",\"tipo_participacao_credito\", \n",
        "              \"tempo_moradia\", \"propriedade\",\"idade\",\n",
        "              \"gastos_adicionais\", \"habitacao\",\"quantidade_creditos\",\"emprego\",\n",
        "              \"dependentes\",\"telefone\",\"trabalhador_estrangeiro\",\"risco\"]\n",
        "\n",
        "\n",
        "# Descrição dos códigos:\n",
        "'''\n",
        "codigos_historico_de_creditos = {\n",
        "    \"A30\": \"no credits taken/all credits paid back duly\",\n",
        "    \"A31\": \"all credits at this bank paid back duly\",\n",
        "    \"A32\": \"existing credits paid back duly till now\",\n",
        "    \"A33\": \"delay in paying off in the past\",\n",
        "    \"A34\": \"critical account/other credits existing (not at this bank)\"\n",
        "}\n",
        "\n",
        "codigos_proposito = {\n",
        "    \"A40\": \"car(new)\",\n",
        "    \"A41\": \"car(used)\",\n",
        "    \"A42\": \"furniture/equipment\",\n",
        "    \"A43\": \"radio/television\",\n",
        "    \"A44\": \"domestic appliances\",\n",
        "    \"A45\": \"repairs\",\n",
        "    \"A46\": \"education\",\n",
        "    \"A47\": \"vacation\",\n",
        "    \"A48\": \"retraining\",\n",
        "    \"A49\": \"business\",\n",
        "    \"A410\": \"others\"\n",
        "}\n",
        "\n",
        "codigo_estado_civil_sexo = {\n",
        "    \"A91\": \"male : divorced/separated\",\n",
        "    \"A92\": \"female : divorced/separated/married\",\n",
        "    \"A93\": \"male : single\",\n",
        "    \"A94\": \"male : married/windowed\",\n",
        "    \"A95\": \"female : single\"\n",
        "}\n",
        "\n",
        "codigos_outros_devedores = {\n",
        "    \"A101\": None,\n",
        "    \"A102\": \"co-applicant\",\n",
        "    \"A103\": \"guarantor\",\n",
        "}\n",
        "\n",
        "codigos_propriedade = {\n",
        "    \"A121\": \"real state\",\n",
        "    \"A122\": \"building society/life insurance\",\n",
        "    \"A123\": \"car\",\n",
        "    \"A124\": \"unknown/no property\"\n",
        "}\n",
        "\n",
        "codigos_planos_de_parcelamento = {\n",
        "    \"A141\": \"bank\",\n",
        "    \"A142\": \"stores\",\n",
        "    \"A143\": \"None\"\n",
        "}\n",
        "\n",
        "codigos_residencia = {\n",
        "    \"A151\": \"rent\",\n",
        "    \"A152\": \"own\",\n",
        "    \"A153\": \"for free\"\n",
        "}\n",
        "\n",
        "codigos_estado_emprego = {\n",
        "    \"A171\": \"unemployed/unskilled-non-resident\",\n",
        "    \"A172\": \"unskilled-resident\",\n",
        "    \"A173\": \"skilled employee/official\",\n",
        "    \"A174\": \"management/self-employed/highly qualified employee/officer\"\n",
        "}\n",
        "\n",
        "codigos_telefone = {\n",
        "    \"A191\": None,\n",
        "    \"A192\": \"yes\"\n",
        "}\n",
        "\n",
        "codigos_trabalhador_estrangeiro = {\n",
        "    \"A201\": \"yes\",\n",
        "    \"A202\": \"no\"\n",
        "}\n",
        "\n",
        "codigos_status_atual_conta_corrente = {\n",
        "    \"A11\": \"< 0\",\n",
        "    \"A12\": \"< 199\",\n",
        "    \"A13\": \">= 200\",\n",
        "    \"A14\": None\n",
        "}\n",
        "\n",
        "codigos_reserva_poupanca = {\n",
        "    \"A61\": \"< 100\",\n",
        "    \"A62\": \"< 499\",\n",
        "    \"A63\": \"< 999\",\n",
        "    \"A64\": \">= 1000\",\n",
        "    \"A65\": \"unknown\"\n",
        "}\n",
        "\n",
        "codigos_tempo_emprego = {\n",
        "    \"A71\": None,\n",
        "    \"A72\": \"< 1\", # Menos de 1 ano\n",
        "    \"A73\": \"< 4\", # Entre 1 ano e menos que 4 anos\n",
        "    \"A74\": \"< 7\", # Entre 4 anos e menos que 7 anos\n",
        "    \"A75\": \">= 7\" # Mais de 7 anos\n",
        "}\n",
        "'''\n",
        "\n",
        "df = df.replace(['A11','A12','A13','A14', 'A171','A172','A173','A174','A121','A122','A123','A124'],\n",
        "                  ['neg_bal','positive_bal','positive_bal','no_acc','unskilled','unskilled','skilled','highly_skilled',\n",
        "                   'none','car','life_insurance','real_estate'])\n",
        "df.head()"
      ],
      "metadata": {
        "id": "mmRa-MRbF1B7",
        "colab": {
          "base_uri": "https://localhost:8080/",
          "height": 300
        },
        "outputId": "9203aafd-603e-4893-e4e8-a77070ff03e1"
      },
      "execution_count": null,
      "outputs": [
        {
          "output_type": "execute_result",
          "data": {
            "text/plain": [
              "       montante  duracao historico_credito proposito  montante_credito  \\\n",
              "0       neg_bal        6               A34       A43              1169   \n",
              "1  positive_bal       48               A32       A43              5951   \n",
              "2        no_acc       12               A34       A46              2096   \n",
              "3       neg_bal       42               A32       A42              7882   \n",
              "4       neg_bal       24               A33       A40              4870   \n",
              "\n",
              "  poupanca tempo_empregado  taxa_parcelamento estado_civil_sexo  \\\n",
              "0      A65             A75                  4               A93   \n",
              "1      A61             A73                  2               A92   \n",
              "2      A61             A74                  2               A93   \n",
              "3      A61             A74                  2               A93   \n",
              "4      A61             A73                  3               A93   \n",
              "\n",
              "  tipo_participacao_credito  ...  propriedade idade  gastos_adicionais  \\\n",
              "0                      A101  ...         none    67               A143   \n",
              "1                      A101  ...         none    22               A143   \n",
              "2                      A101  ...         none    49               A143   \n",
              "3                      A103  ...          car    45               A143   \n",
              "4                      A101  ...  real_estate    53               A143   \n",
              "\n",
              "  habitacao quantidade_creditos    emprego dependentes  telefone  \\\n",
              "0      A152                   2    skilled           1      A192   \n",
              "1      A152                   1    skilled           1      A191   \n",
              "2      A152                   1  unskilled           2      A191   \n",
              "3      A153                   1    skilled           2      A191   \n",
              "4      A153                   2    skilled           2      A191   \n",
              "\n",
              "  trabalhador_estrangeiro risco  \n",
              "0                    A201     1  \n",
              "1                    A201     2  \n",
              "2                    A201     1  \n",
              "3                    A201     1  \n",
              "4                    A201     2  \n",
              "\n",
              "[5 rows x 21 columns]"
            ],
            "text/html": [
              "\n",
              "  <div id=\"df-4532a819-01b9-4b2f-a674-6e498286f90c\">\n",
              "    <div class=\"colab-df-container\">\n",
              "      <div>\n",
              "<style scoped>\n",
              "    .dataframe tbody tr th:only-of-type {\n",
              "        vertical-align: middle;\n",
              "    }\n",
              "\n",
              "    .dataframe tbody tr th {\n",
              "        vertical-align: top;\n",
              "    }\n",
              "\n",
              "    .dataframe thead th {\n",
              "        text-align: right;\n",
              "    }\n",
              "</style>\n",
              "<table border=\"1\" class=\"dataframe\">\n",
              "  <thead>\n",
              "    <tr style=\"text-align: right;\">\n",
              "      <th></th>\n",
              "      <th>montante</th>\n",
              "      <th>duracao</th>\n",
              "      <th>historico_credito</th>\n",
              "      <th>proposito</th>\n",
              "      <th>montante_credito</th>\n",
              "      <th>poupanca</th>\n",
              "      <th>tempo_empregado</th>\n",
              "      <th>taxa_parcelamento</th>\n",
              "      <th>estado_civil_sexo</th>\n",
              "      <th>tipo_participacao_credito</th>\n",
              "      <th>...</th>\n",
              "      <th>propriedade</th>\n",
              "      <th>idade</th>\n",
              "      <th>gastos_adicionais</th>\n",
              "      <th>habitacao</th>\n",
              "      <th>quantidade_creditos</th>\n",
              "      <th>emprego</th>\n",
              "      <th>dependentes</th>\n",
              "      <th>telefone</th>\n",
              "      <th>trabalhador_estrangeiro</th>\n",
              "      <th>risco</th>\n",
              "    </tr>\n",
              "  </thead>\n",
              "  <tbody>\n",
              "    <tr>\n",
              "      <th>0</th>\n",
              "      <td>neg_bal</td>\n",
              "      <td>6</td>\n",
              "      <td>A34</td>\n",
              "      <td>A43</td>\n",
              "      <td>1169</td>\n",
              "      <td>A65</td>\n",
              "      <td>A75</td>\n",
              "      <td>4</td>\n",
              "      <td>A93</td>\n",
              "      <td>A101</td>\n",
              "      <td>...</td>\n",
              "      <td>none</td>\n",
              "      <td>67</td>\n",
              "      <td>A143</td>\n",
              "      <td>A152</td>\n",
              "      <td>2</td>\n",
              "      <td>skilled</td>\n",
              "      <td>1</td>\n",
              "      <td>A192</td>\n",
              "      <td>A201</td>\n",
              "      <td>1</td>\n",
              "    </tr>\n",
              "    <tr>\n",
              "      <th>1</th>\n",
              "      <td>positive_bal</td>\n",
              "      <td>48</td>\n",
              "      <td>A32</td>\n",
              "      <td>A43</td>\n",
              "      <td>5951</td>\n",
              "      <td>A61</td>\n",
              "      <td>A73</td>\n",
              "      <td>2</td>\n",
              "      <td>A92</td>\n",
              "      <td>A101</td>\n",
              "      <td>...</td>\n",
              "      <td>none</td>\n",
              "      <td>22</td>\n",
              "      <td>A143</td>\n",
              "      <td>A152</td>\n",
              "      <td>1</td>\n",
              "      <td>skilled</td>\n",
              "      <td>1</td>\n",
              "      <td>A191</td>\n",
              "      <td>A201</td>\n",
              "      <td>2</td>\n",
              "    </tr>\n",
              "    <tr>\n",
              "      <th>2</th>\n",
              "      <td>no_acc</td>\n",
              "      <td>12</td>\n",
              "      <td>A34</td>\n",
              "      <td>A46</td>\n",
              "      <td>2096</td>\n",
              "      <td>A61</td>\n",
              "      <td>A74</td>\n",
              "      <td>2</td>\n",
              "      <td>A93</td>\n",
              "      <td>A101</td>\n",
              "      <td>...</td>\n",
              "      <td>none</td>\n",
              "      <td>49</td>\n",
              "      <td>A143</td>\n",
              "      <td>A152</td>\n",
              "      <td>1</td>\n",
              "      <td>unskilled</td>\n",
              "      <td>2</td>\n",
              "      <td>A191</td>\n",
              "      <td>A201</td>\n",
              "      <td>1</td>\n",
              "    </tr>\n",
              "    <tr>\n",
              "      <th>3</th>\n",
              "      <td>neg_bal</td>\n",
              "      <td>42</td>\n",
              "      <td>A32</td>\n",
              "      <td>A42</td>\n",
              "      <td>7882</td>\n",
              "      <td>A61</td>\n",
              "      <td>A74</td>\n",
              "      <td>2</td>\n",
              "      <td>A93</td>\n",
              "      <td>A103</td>\n",
              "      <td>...</td>\n",
              "      <td>car</td>\n",
              "      <td>45</td>\n",
              "      <td>A143</td>\n",
              "      <td>A153</td>\n",
              "      <td>1</td>\n",
              "      <td>skilled</td>\n",
              "      <td>2</td>\n",
              "      <td>A191</td>\n",
              "      <td>A201</td>\n",
              "      <td>1</td>\n",
              "    </tr>\n",
              "    <tr>\n",
              "      <th>4</th>\n",
              "      <td>neg_bal</td>\n",
              "      <td>24</td>\n",
              "      <td>A33</td>\n",
              "      <td>A40</td>\n",
              "      <td>4870</td>\n",
              "      <td>A61</td>\n",
              "      <td>A73</td>\n",
              "      <td>3</td>\n",
              "      <td>A93</td>\n",
              "      <td>A101</td>\n",
              "      <td>...</td>\n",
              "      <td>real_estate</td>\n",
              "      <td>53</td>\n",
              "      <td>A143</td>\n",
              "      <td>A153</td>\n",
              "      <td>2</td>\n",
              "      <td>skilled</td>\n",
              "      <td>2</td>\n",
              "      <td>A191</td>\n",
              "      <td>A201</td>\n",
              "      <td>2</td>\n",
              "    </tr>\n",
              "  </tbody>\n",
              "</table>\n",
              "<p>5 rows × 21 columns</p>\n",
              "</div>\n",
              "      <button class=\"colab-df-convert\" onclick=\"convertToInteractive('df-4532a819-01b9-4b2f-a674-6e498286f90c')\"\n",
              "              title=\"Convert this dataframe to an interactive table.\"\n",
              "              style=\"display:none;\">\n",
              "        \n",
              "  <svg xmlns=\"http://www.w3.org/2000/svg\" height=\"24px\"viewBox=\"0 0 24 24\"\n",
              "       width=\"24px\">\n",
              "    <path d=\"M0 0h24v24H0V0z\" fill=\"none\"/>\n",
              "    <path d=\"M18.56 5.44l.94 2.06.94-2.06 2.06-.94-2.06-.94-.94-2.06-.94 2.06-2.06.94zm-11 1L8.5 8.5l.94-2.06 2.06-.94-2.06-.94L8.5 2.5l-.94 2.06-2.06.94zm10 10l.94 2.06.94-2.06 2.06-.94-2.06-.94-.94-2.06-.94 2.06-2.06.94z\"/><path d=\"M17.41 7.96l-1.37-1.37c-.4-.4-.92-.59-1.43-.59-.52 0-1.04.2-1.43.59L10.3 9.45l-7.72 7.72c-.78.78-.78 2.05 0 2.83L4 21.41c.39.39.9.59 1.41.59.51 0 1.02-.2 1.41-.59l7.78-7.78 2.81-2.81c.8-.78.8-2.07 0-2.86zM5.41 20L4 18.59l7.72-7.72 1.47 1.35L5.41 20z\"/>\n",
              "  </svg>\n",
              "      </button>\n",
              "      \n",
              "  <style>\n",
              "    .colab-df-container {\n",
              "      display:flex;\n",
              "      flex-wrap:wrap;\n",
              "      gap: 12px;\n",
              "    }\n",
              "\n",
              "    .colab-df-convert {\n",
              "      background-color: #E8F0FE;\n",
              "      border: none;\n",
              "      border-radius: 50%;\n",
              "      cursor: pointer;\n",
              "      display: none;\n",
              "      fill: #1967D2;\n",
              "      height: 32px;\n",
              "      padding: 0 0 0 0;\n",
              "      width: 32px;\n",
              "    }\n",
              "\n",
              "    .colab-df-convert:hover {\n",
              "      background-color: #E2EBFA;\n",
              "      box-shadow: 0px 1px 2px rgba(60, 64, 67, 0.3), 0px 1px 3px 1px rgba(60, 64, 67, 0.15);\n",
              "      fill: #174EA6;\n",
              "    }\n",
              "\n",
              "    [theme=dark] .colab-df-convert {\n",
              "      background-color: #3B4455;\n",
              "      fill: #D2E3FC;\n",
              "    }\n",
              "\n",
              "    [theme=dark] .colab-df-convert:hover {\n",
              "      background-color: #434B5C;\n",
              "      box-shadow: 0px 1px 3px 1px rgba(0, 0, 0, 0.15);\n",
              "      filter: drop-shadow(0px 1px 2px rgba(0, 0, 0, 0.3));\n",
              "      fill: #FFFFFF;\n",
              "    }\n",
              "  </style>\n",
              "\n",
              "      <script>\n",
              "        const buttonEl =\n",
              "          document.querySelector('#df-4532a819-01b9-4b2f-a674-6e498286f90c button.colab-df-convert');\n",
              "        buttonEl.style.display =\n",
              "          google.colab.kernel.accessAllowed ? 'block' : 'none';\n",
              "\n",
              "        async function convertToInteractive(key) {\n",
              "          const element = document.querySelector('#df-4532a819-01b9-4b2f-a674-6e498286f90c');\n",
              "          const dataTable =\n",
              "            await google.colab.kernel.invokeFunction('convertToInteractive',\n",
              "                                                     [key], {});\n",
              "          if (!dataTable) return;\n",
              "\n",
              "          const docLinkHtml = 'Like what you see? Visit the ' +\n",
              "            '<a target=\"_blank\" href=https://colab.research.google.com/notebooks/data_table.ipynb>data table notebook</a>'\n",
              "            + ' to learn more about interactive tables.';\n",
              "          element.innerHTML = '';\n",
              "          dataTable['output_type'] = 'display_data';\n",
              "          await google.colab.output.renderOutput(dataTable, element);\n",
              "          const docLink = document.createElement('div');\n",
              "          docLink.innerHTML = docLinkHtml;\n",
              "          element.appendChild(docLink);\n",
              "        }\n",
              "      </script>\n",
              "    </div>\n",
              "  </div>\n",
              "  "
            ]
          },
          "metadata": {},
          "execution_count": 81
        }
      ]
    },
    {
      "cell_type": "markdown",
      "source": [
        "## 3. Análise e visualização dos dados "
      ],
      "metadata": {
        "id": "GamWCcrmGJqs"
      }
    },
    {
      "cell_type": "code",
      "source": [
        "montante_vet = df.loc[:, 'montante'].value_counts()\n",
        "montante_vet"
      ],
      "metadata": {
        "colab": {
          "base_uri": "https://localhost:8080/"
        },
        "id": "sPbxbfdCNcuw",
        "outputId": "4a5bc2e2-6cc6-4405-bc7e-b8531555f75d"
      },
      "execution_count": null,
      "outputs": [
        {
          "output_type": "execute_result",
          "data": {
            "text/plain": [
              "no_acc          394\n",
              "positive_bal    332\n",
              "neg_bal         274\n",
              "Name: montante, dtype: int64"
            ]
          },
          "metadata": {},
          "execution_count": 82
        }
      ]
    },
    {
      "cell_type": "markdown",
      "source": [
        "Agrupamento da distribuição das quantidades de montantes:"
      ],
      "metadata": {
        "id": "RlY73W9cGlW-"
      }
    },
    {
      "cell_type": "code",
      "source": [
        "# Estilizando plotagem\n",
        "plt.rcParams.update({'text.color': \"white\"})\n",
        "sns.set_theme()\n",
        "\n",
        "fig, ax = plt.subplots(figsize = (16, 8))\n",
        "a = sns.countplot(x = df.loc[:,'montante'], data = df)\n",
        "a.set_title(\"Contagem do montante por tipo\")\n",
        "plt.show()\n",
        "plt.savefig('montante_p_tipo')"
      ],
      "metadata": {
        "colab": {
          "base_uri": "https://localhost:8080/",
          "height": 365
        },
        "id": "8vxIO01JGkDS",
        "outputId": "db53583e-3aa1-480c-d6a7-cabfd341460a"
      },
      "execution_count": null,
      "outputs": [
        {
          "output_type": "display_data",
          "data": {
            "text/plain": [
              "<Figure size 1152x576 with 1 Axes>"
            ],
            "image/png": "[encoded data removed]"
          },
          "metadata": {}
        },
        {
          "output_type": "display_data",
          "data": {
            "text/plain": [
              "<Figure size 1152x576 with 0 Axes>"
            ]
          },
          "metadata": {}
        }
      ]
    },
    {
      "cell_type": "markdown",
      "source": [
        "**Análise de correlação entre as variáveis do dataset:**"
      ],
      "metadata": {
        "id": "Xhrk89SSUbgm"
      }
    },
    {
      "cell_type": "code",
      "source": [
        "plt.figure(figsize = (15, 5))\n",
        "sns.heatmap(df.corr(), annot=True)"
      ],
      "metadata": {
        "id": "0tMAXAcDUybN"
      },
      "execution_count": null,
      "outputs": []
    },
    {
      "cell_type": "code",
      "source": [
        "plt.figure(figsize = (15, 5))\n",
        "sns.swarmplot(x = \"historico_credito\",y = \"montante_credito\",data = df)\n",
        "plt.show()\n",
        "\n",
        "\n",
        "#codigos_historico_de_creditos = {\n",
        "#   \"A30\": \"no credits taken/all credits paid back duly\",\n",
        "#   \"A31\": \"all credits at this bank paid back duly\",\n",
        "#   \"A32\": \"existing credits paid back duly till now\",\n",
        "#   \"A33\": \"delay in paying off in the past\",\n",
        "#   \"A34\": \"critical account/other credits existing (not at this bank)\"\n",
        "#}\n"
      ],
      "metadata": {
        "id": "cCak1o2kVlqH"
      },
      "execution_count": null,
      "outputs": []
    },
    {
      "cell_type": "code",
      "source": [
        "# Plotar uma distribuição univariada de observações\n",
        "plt.figure(figsize = (15, 5))\n",
        "sns.distplot(df.loc[:, 'idade'])\n",
        "plt.show()"
      ],
      "metadata": {
        "id": "RRNSK-XaZEHl"
      },
      "execution_count": null,
      "outputs": []
    },
    {
      "cell_type": "markdown",
      "source": [
        "**Examinando a distribuição da coluna de risco:**"
      ],
      "metadata": {
        "id": "NT6-o3zqVFFC"
      }
    },
    {
      "cell_type": "code",
      "source": [
        "df.risco.unique()"
      ],
      "metadata": {
        "id": "ayzdzE2_GTiC"
      },
      "execution_count": null,
      "outputs": []
    },
    {
      "cell_type": "markdown",
      "source": [
        "A coluna `risco` tem dois valores:\n",
        "* 1: representando um bom empréstimo\n",
        "* 2: representando um mau empréstimo (default).\n",
        "\n",
        "A convenção usual é usar '1' para empréstimos ruins e '0' para empréstimos bons. Vamos substituir os valores para cumprir a convenção."
      ],
      "metadata": {
        "id": "3LQWg3aoGq_z"
      }
    },
    {
      "cell_type": "code",
      "source": [
        "from sklearn.preprocessing import LabelEncoder\n",
        "\n",
        "le = LabelEncoder()\n",
        "le.fit(df.risco)\n",
        "df.risco = le.transform(df.risco)\n",
        "df.risco.head(5)"
      ],
      "metadata": {
        "id": "OYTBaWgk5nvu"
      },
      "execution_count": null,
      "outputs": []
    },
    {
      "cell_type": "markdown",
      "source": [
        "Uma compreensão da porcentagem de empréstimos bons e ruins seria útil para uma análise mais aprofundada. Um gráfico de pizza seria a melhor ferramenta para ajudar com isso."
      ],
      "metadata": {
        "id": "kr4udoZVHMHR"
      }
    },
    {
      "cell_type": "code",
      "source": [
        "\n",
        "fig, ax = plt.subplots(figsize = (16, 8))\n",
        "good_bad_per = round(((df.risco.value_counts() / df.risco.count()) * 100))\n",
        "good_bad_per\n",
        "plt.pie(good_bad_per, labels = ['Bons empréstimos', 'Maus empréstimos'], autopct = '%1.0f%%', startangle = 90)\n",
        "plt.title('Porcentagem de bons e maus empréstimos', fontsize = 20)\n",
        "plt.show()"
      ],
      "metadata": {
        "id": "D-kXXfBSBBr0"
      },
      "execution_count": null,
      "outputs": []
    },
    {
      "cell_type": "markdown",
      "source": [
        "O gráfico de pizza mostra que 30% dos solicitantes de empréstimos ficaram inadimplentes. A partir dessas informações, vemos que este é um problema de classe desequilibrado. Portanto, teremos que pesar as classes por sua representação nos dados para refletir esse desequilíbrio.\n",
        "\n",
        "**Exploração das variáveis contínuas:**\n",
        "\n",
        "Utilizaremos:\n",
        "* Estatísticas resumidas\n",
        "* Histogramas\n",
        "* Box-plots\n",
        "\n",
        "Observações:\n",
        "     Uma olhada na distribuição das variáveis contínuas mostra que as variáveis estão em intervalos diferentes.\n",
        "     O histograma sugere que a maioria das observações cai no primeiro quantil da variável. Isso pode ser verificado pelo box-plot.\n",
        "     Os box-plots mostram que a maioria dos valores dos créditos estão entre 1000 a 4500 dólares. O valor do crédito é positivamente enviesado. A maior parte da duração do empréstimo é de 15 a 30 meses. A maioria dos requerentes de empréstimo tem idade entre 28 e 43 anos."
      ],
      "metadata": {
        "id": "FMhPxn7jHZ39"
      }
    },
    {
      "cell_type": "code",
      "source": [
        "df[['montante_credito','duracao','idade']].describe()"
      ],
      "metadata": {
        "id": "rAYFz0LoJ4Sz"
      },
      "execution_count": null,
      "outputs": []
    },
    {
      "cell_type": "code",
      "source": [
        "df['montante_credito'] = np.log(df['montante_credito'])\n",
        "df[['montante_credito','duracao','idade']].describe()"
      ],
      "metadata": {
        "id": "FOb9vXKQJ8UY"
      },
      "execution_count": null,
      "outputs": []
    },
    {
      "cell_type": "code",
      "source": [
        "# Estilizando plotagem\n",
        "plt.rcParams.update({'text.color': \"white\"})\n",
        "sns.set_theme()\n",
        "\n",
        "fig, axes = plt.subplots(1, 3, figsize = (16, 8))\n",
        "plt.suptitle('Histogramas das variáveis contínuas', fontsize = 20)\n",
        "axes[0].hist(df['duracao'], facecolor = 'crimson', edgecolor = 'black', linewidth = 0.5)\n",
        "axes[0].set_xlabel('No. de observações')\n",
        "axes[0].set_ylabel('Anos')\n",
        "axes[0].set_title('Duração do empréstimo');\n",
        "\n",
        "axes[1].hist(df['montante_credito'], facecolor = 'crimson', edgecolor = 'black', linewidth = 0.5)\n",
        "axes[1].set_xlabel('No. de observações')\n",
        "axes[1].set_ylabel('Quantia de crédito (dólares)')\n",
        "axes[1].set_title('Quantia de crédito');\n",
        "\n",
        "axes[2].hist(df['idade'], facecolor = 'crimson', edgecolor = 'black', linewidth = 0.5)\n",
        "axes[2].set_xlabel('No. de observações')\n",
        "axes[2].set_ylabel('Idade')\n",
        "axes[2].set_title('Idade');"
      ],
      "metadata": {
        "id": "ytiNB9yeKTpB"
      },
      "execution_count": null,
      "outputs": []
    },
    {
      "cell_type": "code",
      "source": [
        "# Box-plots das variáveis contínuas\n",
        "fig, ax = plt.subplots(1, 3, figsize = (20, 5))\n",
        "plt.suptitle('BOX-PLOTS', fontsize = 20)\n",
        "sns.boxplot(df['montante_credito'], ax=ax[0]);\n",
        "sns.boxplot(df['duracao'], ax = ax[1], color = 'orange');\n",
        "sns.boxplot(df['idade'], ax = ax[2], color = 'green');\n",
        "plt.show()"
      ],
      "metadata": {
        "id": "WT-O_ZNdMRmw"
      },
      "execution_count": null,
      "outputs": []
    },
    {
      "cell_type": "markdown",
      "source": [
        "**Relação entre o valor do crédito e a duração do reembolso:**\n",
        "\n",
        "Utilizaremos:\n",
        "*   Gráfico de dispersão\n",
        "\n",
        "Observações:\n",
        "\n",
        "O gráfico de dispersão mostra que, em geral, empréstimos maiores têm maior duração de reembolso. Casos em que grandes empréstimos são concedidos com curto prazo de reembolso acabaram por ser maus empréstimos."
      ],
      "metadata": {
        "id": "0093On-rOPoH"
      }
    },
    {
      "cell_type": "code",
      "source": [
        "sns.set(rc = {'figure.figsize':(16, 8)})\n",
        "sns.scatterplot(y = df.montante_credito, \n",
        "                x = df.duracao, \n",
        "                hue = df.risco, \n",
        "                s = 100, \n",
        "                )\n",
        "\n",
        "plt.show()"
      ],
      "metadata": {
        "id": "0WOupC52OwhP"
      },
      "execution_count": null,
      "outputs": []
    },
    {
      "cell_type": "markdown",
      "source": [
        "**Exploração de variáveis categóricas:**\n",
        "\n",
        "**Relação entre risco de crédito e habilidades do solicitante do empréstimo:**\n",
        "\n",
        "Utilizaremos:\n",
        "*   Gráfico de barras\n",
        "\n",
        "Observações:\n",
        "\n",
        "O gráfico mostra que os candidatos desempregados/não qualificados representam um alto risco."
      ],
      "metadata": {
        "id": "icTi77sgPT7A"
      }
    },
    {
      "cell_type": "code",
      "source": [
        "df.groupby('emprego')['risco'].value_counts().unstack(level = 1).plot.barh(stacked = True, figsize = (10, 6))\n",
        "plt.show()"
      ],
      "metadata": {
        "id": "a3WplImNPwbr"
      },
      "execution_count": null,
      "outputs": []
    },
    {
      "cell_type": "markdown",
      "source": [
        "**Relação entre o valor do crédito e a duração do empréstimo:**\n",
        "\n",
        "Utilizaremos:\n",
        "*   Gráfico de linha\n",
        "\n",
        "Observação:\n",
        "Existe uma relação linear entre o valor do crédito e a duração. Quanto maior o valor do crédito, maior é a duração do reembolso."
      ],
      "metadata": {
        "id": "uQV0bHHVRldI"
      }
    },
    {
      "cell_type": "code",
      "source": [
        "sns.set(rc = {'figure.figsize':(16, 8)})\n",
        "sns.lineplot(data = df, x = 'duracao', y = 'montante_credito', hue = 'risco', palette = 'deep');"
      ],
      "metadata": {
        "id": "uES-RgG5SIPy"
      },
      "execution_count": null,
      "outputs": []
    },
    {
      "cell_type": "markdown",
      "source": [
        "**Relação entre o ativo mais valioso do candidato e o valor do crédito, risco de crédito:**\n",
        "\n",
        "Utilizaremos:\n",
        "*   Gráfico de barras empilhadas\n",
        "*   Gráfico de dispersão\n",
        "\n",
        "A codificação categórica usada nos gráficos é:\n",
        "\n",
        "* A121: imóveis\n",
        "* A122 : se não A121 : convênio de poupança/seguro de vida\n",
        "* A123 : se não A121/A122 : carro ou outro, não no atributo 6\n",
        "* A124: desconhecido/sem propriedade\n",
        "\n",
        "Observações:\n",
        "\n",
        "Os gráficos mostram que as pessoas com ativos imobiliários são muito arriscadas."
      ],
      "metadata": {
        "id": "gRQeKoJ_T8MY"
      }
    },
    {
      "cell_type": "code",
      "source": [
        "df.groupby('propriedade')['risco'].value_counts().unstack(level = 1).plot.barh(stacked = True, figsize = (10, 6))\n",
        "plt.show()"
      ],
      "metadata": {
        "id": "gxYhiZYbUg5P"
      },
      "execution_count": null,
      "outputs": []
    },
    {
      "cell_type": "code",
      "source": [
        "sns.set(rc = {'figure.figsize':(16, 8)})\n",
        "sns.scatterplot(y = df.montante_credito, \n",
        "                x = df.propriedade, \n",
        "                hue = df.risco, \n",
        "                s = 100, \n",
        "                );\n",
        "plt.show()"
      ],
      "metadata": {
        "id": "BdTlFXf2Uyn6"
      },
      "execution_count": null,
      "outputs": []
    },
    {
      "cell_type": "markdown",
      "source": [
        "## 4. Codificar variáveis categóricas\n",
        "\n",
        "A maioria dos modelos de aprendizado de máquina não pode lidar com variáveis categóricas. Portanto, precisamos codificar as 13 variáveis categóricas que temos no conjunto de dados alemão."
      ],
      "metadata": {
        "id": "n6rkBou1VSm7"
      }
    },
    {
      "cell_type": "code",
      "source": [
        "# Número de classes únicas em cada coluna de objeto\n",
        "df.select_dtypes('object').apply(pd.Series.nunique, axis = 0)"
      ],
      "metadata": {
        "id": "A5wsNa1cVe6G"
      },
      "execution_count": null,
      "outputs": []
    },
    {
      "cell_type": "markdown",
      "source": [
        "Temos variáveis categóricas com 2 a 10 categorias. Vamos para a codificação de rótulo para variáveis com apenas duas categorias, enquanto para variáveis com mais de duas categorias, vamos para a codificação one-hot. Na codificação de rótulo, atribuímos cada categoria exclusiva em uma variável categórica com um número inteiro. Nenhuma nova coluna é criada. Na codificação one-hot, criamos uma nova coluna para cada categoria exclusiva em uma variável categórica. A única desvantagem da codificação one-hot é que o número de recursos (dimensões dos dados) pode explodir com variáveis categóricas com muitas categorias. Para lidar com isso, podemos executar a codificação one-hot seguida de PCA ou outros métodos de redução de dimensionalidade para reduzir o número de dimensões (enquanto ainda tentamos preservar as informações).\n",
        "\n",
        "Para codificação de rótulo, usamos o LabelEncoder da biblioteca 'Scikit-Learn' e para codificação one-hot, a função 'get_dummies(df)' da biblioteca 'pandas'."
      ],
      "metadata": {
        "id": "Mqlee_ilV3Q6"
      }
    },
    {
      "cell_type": "code",
      "source": [
        "# Codificador de rótulo \n",
        "le = LabelEncoder()\n",
        "le_count = 0\n",
        "\n",
        "# Iterando pelas colunas\n",
        "for col in df:\n",
        "    if df[col].dtype == 'object':\n",
        "        # Se 2 ou menos categorias exclusivas\n",
        "        if len(list(df[col].unique())) <= 2:\n",
        "            # Treine nos dados de treinamento\n",
        "            le.fit(df[col])\n",
        "            # Transforme os dados de treinamento e teste\n",
        "            df[col] = le.transform(df[col])\n",
        "            \n",
        "            # Acompanhe quantas colunas foram codificadas por rótulo\n",
        "            le_count += 1\n",
        "            \n",
        "print('%d colunas foram codificadas por rótulo.' % le_count)"
      ],
      "metadata": {
        "id": "g7YOiv5rWSgo"
      },
      "execution_count": null,
      "outputs": []
    },
    {
      "cell_type": "code",
      "source": [
        "# Codificador One-Hot\n",
        "df = pd.get_dummies(df)\n",
        "\n",
        "print('Tamanho dos recursos codificados:', df.shape)"
      ],
      "metadata": {
        "id": "0TyQyz7fXC_a"
      },
      "execution_count": null,
      "outputs": []
    },
    {
      "cell_type": "markdown",
      "source": [
        "Agora que codificamos as variáveis, vamos continuar com a análise exploratória dos dados.\n",
        "\n",
        "**Correlação entre as variáveis:**\n",
        "\n",
        "Vejamos as correlações entre os recursos e o destino usando o coeficiente de correlação de Pearson. Neste caso, uma correlação positiva representa a correlação com a inadimplência de crédito, enquanto uma correlação negativa representa a correlação com o reembolso do crédito.\n",
        "\n",
        "Observações:\n",
        "\n",
        "**Correlação positiva:**\n",
        "\n",
        "Pessoas com contas correntes com saldo negativo (account_bal_A11) provavelmente deixarão de pagar o empréstimo.\n",
        "\n",
        "Empréstimos de maior duração (duration) tendem a ficar inadimplentes.\n",
        "\n",
        "**Correlação negativa:**\n",
        "\n",
        "Pessoas sem conta corrente (account_bal_A14) provavelmente pagarão o empréstimo."
      ],
      "metadata": {
        "id": "JREW1y9OXn9-"
      }
    },
    {
      "cell_type": "code",
      "source": [
        "# Encontre correlações com o 'target' e ordene\n",
        "correlations = df.corr()['risco'].sort_values()\n",
        "\n",
        "# Display correlations\n",
        "print('Correlações positivas:')\n",
        "print(correlations.tail(15))\n",
        "print('\\nCorrelações negativas:')\n",
        "print(correlations.head(15))"
      ],
      "metadata": {
        "id": "IN9YWB7hYKt3"
      },
      "execution_count": null,
      "outputs": []
    },
    {
      "cell_type": "markdown",
      "source": [
        "Vejamos o mapa de calor de correlações significativas:"
      ],
      "metadata": {
        "id": "SEKFVpIJYwCL"
      }
    },
    {
      "cell_type": "code",
      "source": [
        "# Extraia as variáveis significativamente correlacionadas\n",
        "corr_data = df[['risco', 'montante_neg_bal','duracao','montante_no_acc']]\n",
        "corr_data_corrs = corr_data.corr()\n",
        "\n",
        "\n",
        "# Mapa de calor das correlações\n",
        "sns.heatmap(corr_data_corrs, cmap = plt.cm.RdYlBu_r, vmin = -0.25, annot = True, vmax = 0.6)\n",
        "plt.title('Mapa de Calor: Correlações');"
      ],
      "metadata": {
        "id": "yZ6sEsxzYyYs"
      },
      "execution_count": null,
      "outputs": []
    },
    {
      "cell_type": "markdown",
      "source": [
        "## 5. Engenharia de recursos\n",
        "\n",
        "A engenharia de recursos refere-se à criação de recursos mais úteis a partir dos dados. Isso representa um dos padrões do aprendizado de máquina: a engenharia de recursos tem um retorno sobre o investimento maior do que a construção de modelos e o ajuste de hiperparâmetros. \n",
        "\n",
        "A engenharia de recursos refere-se a um processo geral e pode envolver tanto a construção de recursos: adicionar novos recursos a partir dos dados existentes, quanto a seleção de recursos: escolher apenas os recursos mais importantes ou outros métodos de redução de dimensionalidade. Existem muitas técnicas que podemos usar para criar recursos e selecionar recursos.\n",
        "\n",
        "Para este problema, tentaremos construir características polinomiais.\n",
        "\n",
        "**Recursos polinomiais:**\n",
        "\n",
        "Aqui, encontramos interações entre os recursos significativos. A correlação entre os recursos de interação são verificados. Se os recursos de interação tiverem maior correlação com o destino em comparação com os recursos originais, eles serão incluídos no modelo de aprendizado de máquina, pois podem ajudar o modelo a aprender melhor."
      ],
      "metadata": {
        "id": "gsYeTS-3MAgW"
      }
    },
    {
      "cell_type": "code",
      "source": [
        "# Criando um novo dataframe para recursos polinomiais\n",
        "poly_features = df[['duracao','montante_neg_bal','montante_no_acc']]\n",
        "poly_target = df['risco']\n",
        "\n",
        "from sklearn.preprocessing import PolynomialFeatures\n",
        "                                  \n",
        "# Cria o objeto polinomial com grau especificado\n",
        "poly_transformer = PolynomialFeatures(degree = 2)\n",
        "# Treinando os recursos polinomiais\n",
        "poly_transformer.fit(poly_features)\n",
        "\n",
        "# Transformando os recursos\n",
        "poly_features = poly_transformer.transform(poly_features)\n",
        "print('Tamanho dos recursos polinomiais:', poly_features.shape)"
      ],
      "metadata": {
        "id": "NACtEwDjMdXb"
      },
      "execution_count": null,
      "outputs": []
    },
    {
      "cell_type": "markdown",
      "source": [
        "Isso cria um número considerável de novos recursos. Para obter os nomes, temos que usar o método ``get_feature_names`` de recursos polinomiais."
      ],
      "metadata": {
        "id": "w5Tumb4QNYbe"
      }
    },
    {
      "cell_type": "code",
      "source": [
        "poly_transformer.get_feature_names(input_features = ['duracao','montante_neg_bal','montante_no_acc'])"
      ],
      "metadata": {
        "id": "Pk-t9rGcNe79"
      },
      "execution_count": null,
      "outputs": []
    },
    {
      "cell_type": "markdown",
      "source": [
        "Agora, podemos ver se algum desses novos recursos está correlacionado com o risco:"
      ],
      "metadata": {
        "id": "Yq4gcJsON1b7"
      }
    },
    {
      "cell_type": "code",
      "source": [
        "# Cria um dataframe para recursos polinomiais\n",
        "poly_features = pd.DataFrame(\n",
        "    poly_features, columns = poly_transformer.get_feature_names(\n",
        "        ['duracao','montante_neg_bal','montante_no_acc']))\n",
        "\n",
        "# Adicionamos o risco\n",
        "poly_features['risco'] = poly_target\n",
        "\n",
        "# Encontrando as correlações com o alvo\n",
        "poly_corrs = poly_features.corr()['risco'].sort_values()\n",
        "\n",
        "# Exibindo as correlações\n",
        "poly_corrs"
      ],
      "metadata": {
        "id": "23NdkjD9ODIN"
      },
      "execution_count": null,
      "outputs": []
    },
    {
      "cell_type": "markdown",
      "source": [
        "Todas as novas variáveis têm uma correlação maior (em termos de magnitude absoluta) com o risco do que as características originais. Adicionaremos esses recursos a uma cópia do conjunto de dados alemão e avaliaremos modelos com e sem os recursos."
      ],
      "metadata": {
        "id": "G_D-_IRqOpPu"
      }
    },
    {
      "cell_type": "code",
      "source": [
        "list(poly_features)"
      ],
      "metadata": {
        "id": "ZMyvzadWOxk1"
      },
      "execution_count": null,
      "outputs": []
    },
    {
      "cell_type": "code",
      "source": [
        "# Excluindo colunas duplicadas em poly_features\n",
        "\n",
        "for i in list(poly_features.columns):\n",
        "  for j in list(df.columns):\n",
        "    if (i == j):\n",
        "      poly_features.drop(labels = i, axis = 1, inplace = True)\n",
        "\n",
        "poly_features.drop(labels = '1', axis = 1, inplace = True)\n",
        "list(poly_features)"
      ],
      "metadata": {
        "id": "OJ-b2jMvOzk0"
      },
      "execution_count": null,
      "outputs": []
    },
    {
      "cell_type": "code",
      "source": [
        "# Tamanho do dataframe original\n",
        "print('Tamanho do dataframe original: ', df.shape)\n",
        "\n",
        "# Mesclar recursos polnomiais no dataframe\n",
        "german_df_poly = df.merge(poly_features, left_index = True, right_index = True, how = 'left')\n",
        "\n",
        "# Printando o novo tamanho\n",
        "print('Tamanho dos recursos polinomiais mesclados: ', german_df_poly.shape)"
      ],
      "metadata": {
        "id": "Ak8vS8NlPMve"
      },
      "execution_count": null,
      "outputs": []
    },
    {
      "cell_type": "code",
      "source": [
        "german_df_poly.isna().any().any()"
      ],
      "metadata": {
        "id": "RePHdG0RPvQq"
      },
      "execution_count": null,
      "outputs": []
    },
    {
      "cell_type": "markdown",
      "source": [
        "## 6. Divisão dos dados de teste e treino"
      ],
      "metadata": {
        "id": "B8B5MuHDP2h_"
      }
    },
    {
      "cell_type": "code",
      "source": [
        "from sklearn.model_selection import train_test_split\n",
        "x, y = df.drop('risco', axis = 1), df['risco']\n",
        "x.shape, y.shape"
      ],
      "metadata": {
        "id": "FGerrVirQC7Z"
      },
      "execution_count": null,
      "outputs": []
    },
    {
      "cell_type": "code",
      "source": [
        "x_train, x_test, y_train, y_test = train_test_split(x,y, test_size = .2, random_state = 42)\n",
        "x_train.shape, x_test.shape"
      ],
      "metadata": {
        "id": "QMey6wi0QXDd"
      },
      "execution_count": null,
      "outputs": []
    },
    {
      "cell_type": "code",
      "source": [
        "x_train"
      ],
      "metadata": {
        "id": "of25CgglQswb"
      },
      "execution_count": null,
      "outputs": []
    },
    {
      "cell_type": "code",
      "source": [
        "y_train"
      ],
      "metadata": {
        "id": "aaFoSkxgQupz"
      },
      "execution_count": null,
      "outputs": []
    },
    {
      "cell_type": "markdown",
      "source": [
        "## 7. Modelos\n",
        "\n",
        "**Critério de avaliação:**\n",
        "\n",
        "Vamos dar uma olhada nas diferentes opções disponíveis de classificação:\n",
        "\n",
        "|Critério de avaliação| Descrição\n",
        "|:---|---\n",
        "|Acurácia| (Verdadeiro positivo + Verdadeiro negativo) / Total observações\n",
        "|Precisão| Verdadeiro positivo / Total da predição positiva\n",
        "|Recall| Verdadeiro positivo / Total dos atuais positivos\n",
        "|F1 | 2 * Precisão * Recall / (Precisão + Recall)\n",
        "|AUC ROC| Área abaixo da curva ROC (TPR Vs. FPR para todos os limites de classificação)\n",
        "\n",
        "Acurácia: O conjunto de dados alemão é um conjunto de dados desequilibrado. A acurácia daria uma pontuação alta ao prever a classe majoritária, mas não conseguiria prever a classe minoritária, que são os inadimplentes. Portanto, essa não é uma métrica adequada para esse conjunto de dados.\n",
        "\n",
        "Precisão: A precisão é uma boa métrica quando os custos de falsos positivos são altos. Exemplo, detecção de spam de e-mail.\n",
        "\n",
        "Recall: Esta métrica é adequada quando os custos de falsos negativos são altos. Exemplo, prevendo um inadimplente como não inadimplente. Isso custa enorme perda para o banco. Portanto, esta é uma métrica adequada para o nosso caso.\n",
        "\n",
        "F1: Medida de precisão e recall.\n",
        "\n",
        "AUC ROC: É o gráfico de TPR vs FPR. Todos os outros critérios discutidos aqui assumem 0,5 como o limite de decisão para a classificação. No entanto, pode não ser sempre verdade. A AUC nos ajuda a avaliar o desempenho do modelo para todos os limites de classificação. Quanto maior o valor da métrica AUC, melhor o modelo.\n",
        "\n",
        "Taxa de verdadeiro positivo (TPR) = TP / Total real positivo\n",
        "\n",
        "Taxa de falsos positivos (FPR) = FP / Total real negativo\n",
        "\n",
        "Usaremos a acurácia e o F1 como critério de métrica.\n",
        "\n",
        "**Linha de base:**"
      ],
      "metadata": {
        "id": "OvBpUtxpQ0Vb"
      }
    },
    {
      "cell_type": "code",
      "source": [
        "y.value_counts(normalize = True)"
      ],
      "metadata": {
        "id": "u82oCLVvbC1_"
      },
      "execution_count": null,
      "outputs": []
    },
    {
      "cell_type": "markdown",
      "source": [
        "Isso significa que a acurácia da linha de base é de 70%, ou seja, mesmo classificando todas as amostras como inadimplentes, teremos 70% de acurácia.\n",
        "\n",
        "**Modelos sem ajuste:**"
      ],
      "metadata": {
        "id": "715YE0Zdb1gW"
      }
    },
    {
      "cell_type": "code",
      "source": [
        "from sklearn.ensemble import RandomForestClassifier\n",
        "from sklearn.linear_model import LogisticRegression\n",
        "from sklearn.tree import DecisionTreeClassifier\n",
        "from sklearn.ensemble import RandomForestClassifier\n",
        "\n",
        "from sklearn.metrics import f1_score, accuracy_score, precision_score, classification_report\n",
        "from sklearn.model_selection import StratifiedKFold, cross_val_score, cross_validate"
      ],
      "metadata": {
        "id": "6JHHNIypcC3d"
      },
      "execution_count": null,
      "outputs": []
    },
    {
      "cell_type": "code",
      "source": [
        "# Preparando modelos\n",
        "models = []\n",
        "models.append(('DT', DecisionTreeClassifier(random_state = 42)))\n",
        "models.append(('LR', LogisticRegression(random_state = 42)))\n",
        "models.append(('RF', RandomForestClassifier(random_state = 42)))\n",
        "\n",
        "# evaluate each model in turn\n",
        "results_accuracy = []\n",
        "results_f1 = []\n",
        "names = []\n",
        "scoring = ['accuracy', 'f1']\n",
        "\n",
        "for name, model in models:\n",
        "        # split dataset into k folds. use one fold for validation and remaining k-1 folds for training\n",
        "        skf = StratifiedKFold(n_splits = 10, shuffle = True, random_state = 42)\n",
        "        # Evaluate a score by cross-validation. Returns array of scores of the model for each run of the cross validation.\n",
        "        #cv_results = cross_val_score(model, x_train, y_train, cv=skf, scoring=scoring)\n",
        "        cv_results = cross_validate(model, x_train, y_train, cv = skf, scoring = scoring)\n",
        "        results_accuracy.append(cv_results['test_accuracy'])\n",
        "        results_f1.append(cv_results['test_f1'])\n",
        "        names.append(name)\n",
        "        msg = \"%s - Acurácia : %f / F1 : %f\" % (name, cv_results['test_accuracy'].mean(),cv_results['test_f1'].mean())\n",
        "        print(msg)\n",
        "        \n",
        "# Boxplot - Comparação algoritmos\n",
        "fig = plt.figure(figsize=(12, 6))\n",
        "fig.suptitle('Comparação de pontuação - Acurácia')\n",
        "ax = fig.add_subplot(111)\n",
        "plt.boxplot(results_accuracy, showmeans = True)\n",
        "ax.set_xticklabels(names)\n",
        "plt.show();\n",
        "\n",
        "fig = plt.figure(figsize=(12, 6))\n",
        "fig.suptitle('Comparação de pontuação - F1')\n",
        "ax = fig.add_subplot(111)\n",
        "plt.boxplot(results_f1, showmeans = True)\n",
        "ax.set_xticklabels(names)\n",
        "plt.show();"
      ],
      "metadata": {
        "id": "lpX1vhGedWGM"
      },
      "execution_count": null,
      "outputs": []
    },
    {
      "cell_type": "markdown",
      "source": [
        "## 7.1 Árvore de Decisão (*Decision Tree*)\n",
        "\n",
        "**Ajuste manual:**"
      ],
      "metadata": {
        "id": "U90yEWgepTfe"
      }
    },
    {
      "cell_type": "code",
      "source": [
        "from sklearn.tree import DecisionTreeClassifier\n",
        "\n",
        "# Inicializando a árvore\n",
        "tree = DecisionTreeClassifier(random_state = 42)\n",
        "\n",
        "# Ajuste-previsão\n",
        "tree.fit(x_train, y_train)\n",
        "\n",
        "# Predição\n",
        "pred_test = tree.predict(x_test)"
      ],
      "metadata": {
        "id": "L8IGhvXepqcw"
      },
      "execution_count": null,
      "outputs": []
    },
    {
      "cell_type": "code",
      "source": [
        "pred_test.shape, y_test.shape"
      ],
      "metadata": {
        "id": "Um3aGH6RqJEH"
      },
      "execution_count": null,
      "outputs": []
    },
    {
      "cell_type": "markdown",
      "source": [
        "Vamos verificar a acurácia dos dados previstos:"
      ],
      "metadata": {
        "id": "s1Ime3QEqPxC"
      }
    },
    {
      "cell_type": "code",
      "source": [
        "from sklearn.metrics import accuracy_score, confusion_matrix\n",
        "from sklearn import metrics \n",
        "print('Acurácia:', accuracy_score(y_test, pred_test))\n",
        "print('F1-score:', f1_score(y_test, pred_test))"
      ],
      "metadata": {
        "id": "gyP7tUMwqUlb"
      },
      "execution_count": null,
      "outputs": []
    },
    {
      "cell_type": "markdown",
      "source": [
        "Vamos verificar a pontuação do cross val para a árvore:"
      ],
      "metadata": {
        "id": "SipOUU8iqeYh"
      }
    },
    {
      "cell_type": "code",
      "source": [
        "skf = StratifiedKFold(n_splits = 10, shuffle = True, random_state = 42)\n",
        "val_scores = cross_val_score(estimator = tree, X = x_train, y = y_train, cv = skf)\n",
        "val_scores"
      ],
      "metadata": {
        "id": "QSGEnL_Bqjd0"
      },
      "execution_count": null,
      "outputs": []
    },
    {
      "cell_type": "code",
      "source": [
        "val_scores.mean()"
      ],
      "metadata": {
        "id": "Xd8IZSp2q13m"
      },
      "execution_count": null,
      "outputs": []
    },
    {
      "cell_type": "code",
      "source": [
        "# Para exibir o progresso de um loop\n",
        "from tqdm import tqdm_notebook"
      ],
      "metadata": {
        "id": "W4PJwH7Cq3hu"
      },
      "execution_count": null,
      "outputs": []
    },
    {
      "cell_type": "code",
      "source": [
        "# Ajustando o modelo para diferentes valores de max_depth sem usar GridSearchCV\n",
        "cv_accuracies_by_depth, test_accuracies_by_depth = [], []\n",
        "max_depth_values = np.arange(2,11)\n",
        "\n",
        "# Para cada valor de max_depth\n",
        "for curr_max_depth in tqdm_notebook(max_depth_values):\n",
        "  tree = DecisionTreeClassifier(random_state = 42, max_depth = curr_max_depth)\n",
        "  \n",
        "  # Realizando validação cruzada\n",
        "  val_scores = cross_val_score(estimator = tree, X = x_train, y = y_train, cv = skf)\n",
        "  cv_accuracies_by_depth.append(val_scores.mean())\n",
        "\n",
        "  # Avaliar o modelo com um teste de teste\n",
        "  tree.fit(x_train, y_train)\n",
        "  curr_pred = tree.predict(x_test)\n",
        "  test_accuracies_by_depth.append(accuracy_score(curr_pred, y_test))"
      ],
      "metadata": {
        "id": "tZRkKeZwrO_V"
      },
      "execution_count": null,
      "outputs": []
    },
    {
      "cell_type": "code",
      "source": [
        "# validation curve\n",
        "plt.plot(max_depth_values, cv_accuracies_by_depth, label='cv')\n",
        "plt.plot(max_depth_values, test_accuracies_by_depth, label='test')\n",
        "plt.legend()\n",
        "plt.xlabel('Max depth')\n",
        "plt.ylabel('Acurácia')\n",
        "plt.title('Curva de validação da árvore de decisão para max_depth', fontsize = 16);"
      ],
      "metadata": {
        "id": "4fcTMtqTrZnP"
      },
      "execution_count": null,
      "outputs": []
    },
    {
      "cell_type": "markdown",
      "source": [
        "Um max_depth de 3 parece dar o melhor resultado. Max_depth maior que 9 parece estar muito ajustada.\n",
        "\n",
        "Vamos agora visualizar a árvore com max_depth = 3:"
      ],
      "metadata": {
        "id": "UGwwui2DVvW2"
      }
    },
    {
      "cell_type": "code",
      "source": [
        "# Árvore ajustada\n",
        "tree = DecisionTreeClassifier(random_state = 42, max_depth = 3).fit(x_train, y_train)"
      ],
      "metadata": {
        "id": "NOX6ml3eVyCh"
      },
      "execution_count": null,
      "outputs": []
    },
    {
      "cell_type": "code",
      "source": [
        "# Gerar gráfico localmente\n",
        "from io import StringIO\n",
        "import pydotplus\n",
        "from ipywidgets import Image\n",
        "from sklearn.tree import export_graphviz\n",
        "\n",
        "dot_data = StringIO()\n",
        "export_graphviz(decision_tree = tree, out_file = dot_data, \n",
        "                filled = True, feature_names = x.columns)\n",
        "graph = pydotplus.graph_from_dot_data(dot_data.getvalue())\n",
        "Image(value = graph.create_png())\n"
      ],
      "metadata": {
        "id": "LNpRwPGRWDAx"
      },
      "execution_count": null,
      "outputs": []
    },
    {
      "cell_type": "markdown",
      "source": [
        "Observações: As caixas de laranja claro são predominantemente inadimplentes enquanto as de azul claro são predominantemente clientes que quitaram os empréstimos.\n",
        "\n",
        "Quão boa é essa acurácia? Vamos olhar para a linha de base.\n",
        "\n",
        "Ajustando usando GridSearchCV:"
      ],
      "metadata": {
        "id": "czKhyC11etIE"
      }
    },
    {
      "cell_type": "code",
      "source": [
        "from sklearn.model_selection import GridSearchCV"
      ],
      "metadata": {
        "id": "SMYqopxrfAes"
      },
      "execution_count": null,
      "outputs": []
    },
    {
      "cell_type": "markdown",
      "source": [
        "GridSearchCV é usado para pesquisar a combinação ideal de hiperparâmetros.\n",
        "\n",
        "Vamos realizar a validação cruzada estratificada e passá-la como um objeto para o GridSearchCV. Ele retorna as melhores configurações para a árvore."
      ],
      "metadata": {
        "id": "PjTtTQQefIaL"
      }
    },
    {
      "cell_type": "code",
      "source": [
        "skf = StratifiedKFold(n_splits = 10, shuffle = True, random_state = 42)"
      ],
      "metadata": {
        "id": "giZsPFjjfMBW"
      },
      "execution_count": null,
      "outputs": []
    },
    {
      "cell_type": "markdown",
      "source": [
        "Aqui, obtemos max_depth=8 que é um valor limítrofe no intervalo que demos (2,11). Portanto, tentamos com um intervalo ligeiramente diferente para o lado do valor mais alto. o melhor valor de min_samples_leaf = 5 que está no meio do intervalo fornecido. Por isso, seguiremos em frente."
      ],
      "metadata": {
        "id": "07Zf--0JfoSv"
      }
    },
    {
      "cell_type": "code",
      "source": [
        "params = {'max_depth': np.arange(2,11), 'min_samples_leaf': np.arange(2,11)}\n",
        "best_tree = GridSearchCV(tree, param_grid = params, cv = skf, n_jobs = -1, verbose = 1)"
      ],
      "metadata": {
        "id": "eztnjVL3fs-F"
      },
      "execution_count": null,
      "outputs": []
    },
    {
      "cell_type": "markdown",
      "source": [
        "Não vamos ajustar o conjunto de dados de treinamento no melhor modelo de árvore que encontramos. Ele treinará o modelo 810 vezes (9 valores de max_depth x 9 valores de min_samples_leaf x 10 vezes cv = 810). jobs = -1 indicam usar toda a CPU disponível para computação paralela."
      ],
      "metadata": {
        "id": "fYrzgidkf5wU"
      }
    },
    {
      "cell_type": "code",
      "source": [
        "best_tree.fit(x_train, y_train)"
      ],
      "metadata": {
        "id": "h8Hw-e9df9vi"
      },
      "execution_count": null,
      "outputs": []
    },
    {
      "cell_type": "code",
      "source": [
        "best_tree.best_params_"
      ],
      "metadata": {
        "id": "ePI5MGzdgDnO"
      },
      "execution_count": null,
      "outputs": []
    },
    {
      "cell_type": "code",
      "source": [
        "best_tree.best_estimator_"
      ],
      "metadata": {
        "id": "WFuyAT9-gGDG"
      },
      "execution_count": null,
      "outputs": []
    },
    {
      "cell_type": "markdown",
      "source": [
        "Avaliação de validação cruzada:"
      ],
      "metadata": {
        "id": "ZoIICYxdgLrc"
      }
    },
    {
      "cell_type": "code",
      "source": [
        "# Avaliação do cross-val da qualidade do modelo\n",
        "print(f'{best_tree.best_score_:.3f}')"
      ],
      "metadata": {
        "id": "jXBs-umdgHtg"
      },
      "execution_count": null,
      "outputs": []
    },
    {
      "cell_type": "markdown",
      "source": [
        "Vamos verificar a pontuação de acurácia e F1 usando previsões com o best_tree que acabamos de modelar:"
      ],
      "metadata": {
        "id": "SojEOksRgekc"
      }
    },
    {
      "cell_type": "code",
      "source": [
        "pred_test_better = best_tree.predict(x_test)\n",
        "print('Acurácia:', accuracy_score(y_test, pred_test_better))\n",
        "print('F1-score:', f1_score(y_test, pred_test_better))"
      ],
      "metadata": {
        "id": "X_0Lew7cgmjI"
      },
      "execution_count": null,
      "outputs": []
    },
    {
      "cell_type": "markdown",
      "source": [
        "\n",
        "O ajuste melhorou o modelo.\n",
        "\n",
        "## 7.2 Regressão Logística:"
      ],
      "metadata": {
        "id": "AP7gC-R-g5f7"
      }
    },
    {
      "cell_type": "code",
      "source": [
        "from sklearn.metrics import recall_score, roc_auc_score\n",
        "tuned_models_test = []\n",
        "tuned_models_train = []\n",
        "\n",
        "# Crie o modelo com o parâmetro de regularização especificado\n",
        "log_reg = LogisticRegression(C = 0.0001, random_state = 42)\n",
        "\n",
        "# Train on the training data\n",
        "log_reg.fit(x_train, y_train)\n",
        "\n",
        "# Avaliar no conjunto de dados de teste\n",
        "recall_test = recall_score(y_test, log_reg.predict(x_test))\n",
        "roc_test = roc_auc_score(y_test, log_reg.predict_proba(x_test)[:, 1])\n",
        "print('LR',' recall_test:', round(recall_test, 2),' auc_roc_test:', round(roc_test, 2))\n",
        "tuned_models_test.append(('LR',' recall_test:', round(recall_test, 2),' auc_roc_test:', round(roc_test, 2)))\n",
        "\n",
        "# Avaliar no conjunto de dados de treinamento\n",
        "roc_train = cross_val_score(log_reg, x_train, y_train, cv=skf, scoring = 'roc_auc').mean()\n",
        "recall_train = cross_val_score(log_reg, x_train, y_train, cv=skf, scoring = 'recall').mean()\n",
        "print('LR',' recall_train:', round(recall_train,2),' auc_roc_train:', round(roc_train,2))\n",
        "tuned_models_train.append(('LR',' recall_train:', round(recall_train, 2),' auc_roc_train:', round(roc_train, 2)))"
      ],
      "metadata": {
        "id": "LimMmWRSnTbV"
      },
      "execution_count": null,
      "outputs": []
    },
    {
      "cell_type": "code",
      "source": [
        "print(classification_report(y_test, log_reg.predict(x_test)))\n",
        "print('Acurácia:', accuracy_score(y_test, pred_test))\n",
        "print('F1-score:', f1_score(y_test, pred_test))"
      ],
      "metadata": {
        "id": "1eVBWnTbr95B"
      },
      "execution_count": null,
      "outputs": []
    },
    {
      "cell_type": "code",
      "source": [
        "from sklearn.metrics import roc_curve\n",
        "\n",
        "# Gerar valores da curva ROC: fpr, tpr, thresholds\n",
        "fpr, tpr, thresholds = roc_curve(y_test, log_reg.predict(x_test))\n",
        "\n",
        "# Plotando a curva ROC\n",
        "plt.plot([0, 1], [0, 1], 'k--')\n",
        "plt.plot(fpr, tpr)\n",
        "plt.xlabel('Taxa - Falso positivo')\n",
        "plt.ylabel('Taxa - Verdadeiro positivo')\n",
        "plt.title('Curva ROC')\n",
        "plt.show()"
      ],
      "metadata": {
        "id": "GyZlpAHRrxO8"
      },
      "execution_count": null,
      "outputs": []
    },
    {
      "cell_type": "markdown",
      "source": [
        "## 7.3 Random Forest"
      ],
      "metadata": {
        "id": "zIIwiQWQtop7"
      }
    },
    {
      "cell_type": "code",
      "source": [
        "# create model with default parameters- baseline\n",
        "rf_baseline = RandomForestClassifier(random_state=42, n_jobs=-1)\n",
        "\n",
        "# Train it on the training set\n",
        "cv_result_baseline = cross_val_score(rf_baseline, x_test, y_test, cv=skf)\n",
        "\n",
        "# Evalute the results (cross-val)\n",
        "print(\"CV acurácia score: {:.2f}%\".format(cv_result_baseline.mean() * 100))"
      ],
      "metadata": {
        "id": "OtJ2ht-ittwp"
      },
      "execution_count": null,
      "outputs": []
    },
    {
      "cell_type": "code",
      "source": [
        "# train model \n",
        "rf_baseline.fit(x_train, y_train)\n",
        "\n",
        "pred_test_rf= rf_baseline.predict(x_test)\n",
        "print(\"Teste acurácia score: {:.2f}%\".format((accuracy_score(pred_test_rf, y_test) * 100)))"
      ],
      "metadata": {
        "id": "yr0DQkQdtv7D"
      },
      "execution_count": null,
      "outputs": []
    },
    {
      "cell_type": "markdown",
      "source": [
        "Agora, vamos tentar melhorar este resultado. Vamos começar com o número de árvores:"
      ],
      "metadata": {
        "id": "uH_Lk5hCx4si"
      }
    },
    {
      "cell_type": "code",
      "source": [
        "# Create lists to save the values of accuracy on training and test sets\n",
        "train_acc = []\n",
        "test_acc = []\n",
        "temp_train_acc = []\n",
        "trees_grid = [5, 10, 15, 20, 30, 50, 75, 100]"
      ],
      "metadata": {
        "id": "mGR79WoDt6Ic"
      },
      "execution_count": null,
      "outputs": []
    },
    {
      "cell_type": "code",
      "source": [
        "for ntrees in trees_grid:\n",
        "    rf = RandomForestClassifier(n_estimators=ntrees, random_state=42, n_jobs=-1).fit(x_train, y_train)\n",
        "    temp_train_acc = cross_val_score(rf, x_test, y_test, cv = skf)\n",
        "    train_acc.append(temp_train_acc.mean())\n",
        "    test_acc.append(accuracy_score(rf.predict(x_test), y_test))"
      ],
      "metadata": {
        "id": "L6nIm5oct8Ct"
      },
      "execution_count": null,
      "outputs": []
    },
    {
      "cell_type": "code",
      "source": [
        "print(\"A melhor CV acurácia é {:.2f}% com {} árvores\".format(max(test_acc) * 100, \n",
        "                                                        trees_grid[np.argmax(test_acc)]))"
      ],
      "metadata": {
        "id": "H6OZ7uFluHZU"
      },
      "execution_count": null,
      "outputs": []
    },
    {
      "cell_type": "code",
      "source": [
        "plt.plot(trees_grid, train_acc, label = 'treino')\n",
        "plt.plot(trees_grid, test_acc, label = 'teste')\n",
        "plt.legend()\n",
        "plt.xlabel('No. de árvores (n_estimadores)')\n",
        "plt.ylabel('Acurácias')\n",
        "plt.title('Random-Forest: Acurácia vs No de Árvores');"
      ],
      "metadata": {
        "id": "zw9Rt6cWuNZc"
      },
      "execution_count": null,
      "outputs": []
    },
    {
      "cell_type": "markdown",
      "source": [
        "A melhor acurácia é alcançada com 50 árvores. Para evitar overfitting (que acontece em n_estimadores = 100), precisamos adicionar parâmetros de regularização ao nosso modelo."
      ],
      "metadata": {
        "id": "YYzTb5zWyrtP"
      }
    },
    {
      "cell_type": "code",
      "source": [
        "# Criando listas para salvar os valores de acurácia nos conjuntos de treinamento e teste\n",
        "train_acc = []\n",
        "test_acc = []\n",
        "temp_train_acc\n",
        "max_depth_grid = [3, 5, 7, 9, 11, 13, 15, 17, 20, 22, 24]\n",
        "\n",
        "for max_depth in max_depth_grid:\n",
        "    rf = RandomForestClassifier(n_estimators = 50, random_state = 42, n_jobs = -1, max_depth = max_depth).fit(x_train, y_train)\n",
        "    temp_train_acc = cross_val_score(rf, x_test, y_test, cv=skf)\n",
        "    train_acc.append(temp_train_acc.mean())\n",
        "    test_acc.append(accuracy_score(rf.predict(x_test), y_test))\n",
        "\n",
        "print(\"Melhor CV acurácia é {:.2f}% com {} max_depth\".format(max(test_acc)*100, \n",
        "                                                        max_depth_grid[np.argmax(test_acc)]))"
      ],
      "metadata": {
        "id": "UsnFNGIwz1pY"
      },
      "execution_count": null,
      "outputs": []
    },
    {
      "cell_type": "code",
      "source": [
        "plt.plot(max_depth_grid, train_acc, label = 'treino')\n",
        "plt.plot(max_depth_grid, test_acc, label = 'teste')\n",
        "plt.legend()\n",
        "plt.xlabel('max_depth')\n",
        "plt.ylabel('Acurácias')\n",
        "plt.title('Random-Forest: Acurácia vs max_depth');"
      ],
      "metadata": {
        "id": "fiJUScff0Hxp"
      },
      "execution_count": null,
      "outputs": []
    },
    {
      "cell_type": "code",
      "source": [
        "# Criando listas para salvar os valores de acurácia e f1-measure nos conjuntos de treinamento e teste\n",
        "train_acc = []\n",
        "test_acc = []\n",
        "temp_train_acc\n",
        "min_samples_leaf_grid = [1, 3, 5, 7, 9, 11, 13, 15, 17, 20, 22, 24]\n",
        "\n",
        "for min_sample in min_samples_leaf_grid:\n",
        "    rf = RandomForestClassifier(n_estimators = 50, random_state = 42, n_jobs = -1, min_samples_leaf = min_sample).fit(x_train, y_train)\n",
        "    temp_train_acc = cross_val_score(rf, x_test, y_test, cv=skf)\n",
        "    train_acc.append(temp_train_acc.mean())\n",
        "    test_acc.append(accuracy_score(rf.predict(x_test), y_test))\n",
        "\n",
        "print(\"Melhor CV acurácia é {:.2f}% com {} min_sample_leaf\".format(max(test_acc)*100, \n",
        "                                                        min_samples_leaf_grid[np.argmax(test_acc)]))\n",
        "\n",
        "plt.plot(min_samples_leaf_grid, train_acc, label = 'treino')\n",
        "plt.plot(min_samples_leaf_grid, test_acc, label = 'teste')\n",
        "plt.legend()\n",
        "plt.xlabel('min_sample_leaf')\n",
        "plt.ylabel('Acurácias')\n",
        "plt.title('Random-Forest: Acurácia vs min_sample_leaf');"
      ],
      "metadata": {
        "id": "TNERejJr1ukI"
      },
      "execution_count": null,
      "outputs": []
    },
    {
      "cell_type": "code",
      "source": [
        "# Criando listas para salvar os valores de acurácia nos conjuntos de treinamento e teste\n",
        "train_acc = []\n",
        "test_acc = []\n",
        "temp_train_acc\n",
        "max_features_grid = [2, 4, 6, 8, 10, 12, 14, 16]\n",
        "\n",
        "for max_feature in max_features_grid:\n",
        "    rf = RandomForestClassifier(n_estimators = 50, random_state = 42, n_jobs=-1, max_features = max_feature).fit(x_train, y_train)\n",
        "    temp_train_acc = cross_val_score(rf, x_test, y_test, cv = skf)\n",
        "    train_acc.append(temp_train_acc.mean())\n",
        "    test_acc.append(accuracy_score(rf.predict(x_test), y_test))\n",
        "\n",
        "print(\"Melhor CV acurácia é {:.2f}% com {} max_features\".format(max(test_acc)*100, \n",
        "                                                        max_features_grid[np.argmax(test_acc)]))\n",
        "print('F1-score:', f1_score(rf.predict(x_test), y_test))\n",
        "plt.plot(max_features_grid, train_acc, label = 'treino')\n",
        "plt.plot(max_features_grid, test_acc, label = 'teste')\n",
        "plt.legend()\n",
        "plt.xlabel('max_features')\n",
        "plt.ylabel('Acurácias')\n",
        "plt.title('Random-Forest: Acurácia vs max_features');"
      ],
      "metadata": {
        "id": "lAzsYjLn53p_"
      },
      "execution_count": null,
      "outputs": []
    },
    {
      "cell_type": "code",
      "source": [
        "# Inicializando o conjunto de parâmetros para busca exaustiva e ajuste\n",
        "parameters = {'max_features': [7, 10, 16, 18], \n",
        "              'min_samples_leaf': [1, 3, 5, 7], \n",
        "              'max_depth': [15, 20, 24, 27]}\n",
        "rf = RandomForestClassifier(n_estimators = 50, random_state = 42, n_jobs = -1)\n",
        "gcv = GridSearchCV(rf, parameters, n_jobs = -1, cv = skf, verbose = 1)\n",
        "gcv.fit(x_train, y_train)"
      ],
      "metadata": {
        "id": "JHgdtgaZ6hcS"
      },
      "execution_count": null,
      "outputs": []
    },
    {
      "cell_type": "code",
      "source": [
        "gcv.best_params_, gcv.best_score_"
      ],
      "metadata": {
        "id": "jECvJn4y6yGS"
      },
      "execution_count": null,
      "outputs": []
    },
    {
      "cell_type": "markdown",
      "source": [
        "## Sumário:\n",
        "\n",
        "|MODELO |TESTE DE ACURÁCIA \n",
        "|:---|---\n",
        "| Decision Tree|76%\n",
        "|Regressão logística|71% \n",
        "| Random Forest|80%\n",
        "\n",
        "## Inferências e Conclusão\n",
        "\n",
        "A partir da exploração do conjunto de dados de crédito alemão, pode-se inferir que\n",
        "\n",
        "* empréstimos de maior valor de crédito concedidos a candidatos que não possuem bens ou apenas um carro como seu bem mais valioso estão em alto risco.\n",
        "* empréstimos concedidos para fins educacionais são arriscados\n",
        "* os candidatos que estão desempregados ou com menos de 1 ano de trabalho apresentam maior risco. Na mesma linha, candidatos não qualificados também representam um risco maior\n",
        "* existe uma relação linear entre o valor do crédito e a duração do reembolso. Créditos mais altos tendem a ter maior duração"
      ],
      "metadata": {
        "id": "FtL6OCfJ7Srx"
      }
    }
  ]
}